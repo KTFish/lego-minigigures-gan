{
 "cells": [
  {
   "cell_type": "code",
   "execution_count": 25,
   "metadata": {},
   "outputs": [],
   "source": [
    "import os\n",
    "import time\n",
    "import shutil\n",
    "import requests\n",
    "from typing import List\n",
    "from random import random\n",
    "from selenium import webdriver\n",
    "from selenium.webdriver.chrome.options import Options\n",
    "from selenium.webdriver.common.action_chains import ActionChains\n",
    "\n",
    "from selenium.webdriver.common.by import By\n",
    "from selenium.webdriver.support.ui import WebDriverWait\n",
    "from selenium.webdriver.support import expected_conditions as EC\n",
    "\n",
    "from webdriver_manager.chrome import ChromeDriverManager\n",
    "from selenium.webdriver.chrome.service import Service\n",
    "\n",
    "os.environ['PATH'] += '.'  # Add webdriver to PATH\n",
    "\n",
    "def create_folder(folder_name: str) -> None:\n",
    "    if not os.path.exists(folder_name):\n",
    "        os.makedirs(folder_name)\n",
    "\n",
    "# Create a folder for dataset    \n",
    "create_folder('dataset')\n"
   ]
  },
  {
   "cell_type": "code",
   "execution_count": 19,
   "metadata": {},
   "outputs": [],
   "source": [
    "# BASE_PATH = f\"https://brickset.com/minifigs/\"\n",
    "# current_category = \"category-Adventurers\"\n",
    "# current_category_path = f\"{BASE_PATH}/{current_category}\""
   ]
  },
  {
   "cell_type": "code",
   "execution_count": 20,
   "metadata": {},
   "outputs": [],
   "source": [
    "# Configure the size of the window\n",
    "options = Options()\n",
    "options.add_argument(\"--window-size=1920,1080\")\n",
    "\n",
    "# Intitialize the driver\n",
    "driver = webdriver.Chrome(options=options, service=Service(ChromeDriverManager().install()))\n",
    "driver.get(\"https://brickset.com/minifigs/category-Town\")  # Open Tinder\n",
    "driver.maximize_window() # Fit the window to your screen"
   ]
  },
  {
   "cell_type": "code",
   "execution_count": 22,
   "metadata": {},
   "outputs": [],
   "source": [
    "# Set the category\n",
    "category = 'town'\n",
    "create_folder(folder_name=f\"./dataset/{category}\")"
   ]
  },
  {
   "cell_type": "code",
   "execution_count": 26,
   "metadata": {},
   "outputs": [],
   "source": [
    "def scrape() -> None:\n",
    "    \"\"\"\n",
    "    Function for scraping a single page. It scrapes the minifigures images and names.\n",
    "    \"\"\"\n",
    "    # Find things on page\n",
    "    # all_img = driver.find_elements(By.XPATH, \"//img\")\n",
    "    all_img = driver.find_elements(By.XPATH, \"//article[@class='set']//img\")\n",
    "    all_minifigure_names = driver.find_elements(By.XPATH, \"//article[@class='set']/div[@class='meta']/h1/a\")\n",
    "\n",
    "\n",
    "    # Check if the number of images and captions is equal\n",
    "    assert len(all_img) == len(all_minifigure_names), f\"all_img ({len(all_img)}) and all_minifigure_names ({len(all_minifigure_names)}) should lenghts be equal!\"\n",
    "\n",
    "    # Loop trough all images on page\n",
    "    for idx, image in enumerate(all_img):\n",
    "        src = image.get_attribute('src')\n",
    "        response = requests.get(src, stream=True)\n",
    "\n",
    "        # Get the original name (it can be usefull for Condiditonal GANs)\n",
    "        minifigure_name = clean_name(all_minifigure_names[idx].get_attribute('text'))\n",
    "\n",
    "        # Save image as .png\n",
    "        with open(f'./dataset/{category}/{minifigure_name}.png', 'wb') as file:\n",
    "            shutil.copyfileobj(response.raw, file)"
   ]
  },
  {
   "cell_type": "code",
   "execution_count": null,
   "metadata": {},
   "outputs": [],
   "source": [
    "def scrape_all_pages(url):\n",
    "    # Visit the first page\n",
    "    driver.get(url)\n",
    "\n",
    "    while True:\n",
    "        # Call the scrape() function on the current page\n",
    "        scrape()\n",
    "\n",
    "        # Find the 'next' button and check if it is disabled (last page)\n",
    "        next_button = driver.find_element(By.CSS_SELECTOR, \"li.next a\")\n",
    "        next_disabled = next_button.get_attribute(\"aria-disabled\")\n",
    "\n",
    "        # If 'next' button is disabled, it means we reached the last page, so break the loop\n",
    "        if next_disabled == \"true\":\n",
    "            break\n",
    "\n",
    "        # Otherwise, click the 'next' button to go to the next page\n",
    "        driver.execute_script(\"arguments[0].click();\", next_button)\n",
    "\n",
    "        # Wait for a few seconds (you can adjust the time if needed)\n",
    "        time.sleep(5)\n",
    "\n",
    "# Start scraping from the first page\n",
    "scrape_all_pages(base_url)\n"
   ]
  },
  {
   "cell_type": "code",
   "execution_count": null,
   "metadata": {},
   "outputs": [],
   "source": []
  },
  {
   "cell_type": "code",
   "execution_count": null,
   "metadata": {},
   "outputs": [],
   "source": []
  },
  {
   "cell_type": "code",
   "execution_count": null,
   "metadata": {},
   "outputs": [],
   "source": []
  },
  {
   "cell_type": "code",
   "execution_count": null,
   "metadata": {},
   "outputs": [],
   "source": []
  },
  {
   "cell_type": "code",
   "execution_count": null,
   "metadata": {},
   "outputs": [],
   "source": [
    "# def scrape_page(all_img: List[selenium.webdriver.remote.webelement.WebElement]) -> None:"
   ]
  },
  {
   "cell_type": "code",
   "execution_count": null,
   "metadata": {},
   "outputs": [],
   "source": []
  },
  {
   "cell_type": "code",
   "execution_count": null,
   "metadata": {},
   "outputs": [],
   "source": [
    "driver.quit()"
   ]
  },
  {
   "cell_type": "code",
   "execution_count": null,
   "metadata": {},
   "outputs": [],
   "source": []
  },
  {
   "cell_type": "code",
   "execution_count": null,
   "metadata": {},
   "outputs": [],
   "source": []
  },
  {
   "cell_type": "code",
   "execution_count": null,
   "metadata": {},
   "outputs": [],
   "source": []
  },
  {
   "cell_type": "code",
   "execution_count": null,
   "metadata": {},
   "outputs": [],
   "source": []
  },
  {
   "cell_type": "code",
   "execution_count": null,
   "metadata": {},
   "outputs": [],
   "source": []
  },
  {
   "cell_type": "code",
   "execution_count": null,
   "metadata": {},
   "outputs": [],
   "source": []
  },
  {
   "cell_type": "code",
   "execution_count": null,
   "metadata": {},
   "outputs": [],
   "source": []
  },
  {
   "cell_type": "code",
   "execution_count": null,
   "metadata": {},
   "outputs": [],
   "source": []
  },
  {
   "cell_type": "code",
   "execution_count": null,
   "metadata": {},
   "outputs": [],
   "source": []
  }
 ],
 "metadata": {
  "kernelspec": {
   "display_name": "lego",
   "language": "python",
   "name": "python3"
  },
  "language_info": {
   "codemirror_mode": {
    "name": "ipython",
    "version": 3
   },
   "file_extension": ".py",
   "mimetype": "text/x-python",
   "name": "python",
   "nbconvert_exporter": "python",
   "pygments_lexer": "ipython3",
   "version": "3.11.4"
  },
  "orig_nbformat": 4
 },
 "nbformat": 4,
 "nbformat_minor": 2
}
