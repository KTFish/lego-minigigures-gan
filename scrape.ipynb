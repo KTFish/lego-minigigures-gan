{
 "cells": [
  {
   "cell_type": "code",
   "execution_count": 7,
   "metadata": {},
   "outputs": [],
   "source": [
    "import os\n",
    "import time\n",
    "import shutil\n",
    "import requests\n",
    "from random import random\n",
    "from selenium import webdriver\n",
    "from selenium.webdriver.chrome.options import Options\n",
    "from selenium.webdriver.common.action_chains import ActionChains\n",
    "\n",
    "from selenium.webdriver.common.by import By\n",
    "from selenium.webdriver.support.ui import WebDriverWait\n",
    "from selenium.webdriver.support import expected_conditions as EC\n",
    "\n",
    "from webdriver_manager.chrome import ChromeDriverManager\n",
    "from selenium.webdriver.chrome.service import Service\n",
    "\n",
    "os.environ['PATH'] += '.'  # Add webdriver to PATH\n",
    "\n",
    "def create_folder(folder_name: str):\n",
    "    if not os.path.exists(folder_name):\n",
    "        os.makedirs(folder_name)\n",
    "\n",
    "        \n",
    "create_folder('dataset')\n"
   ]
  },
  {
   "cell_type": "code",
   "execution_count": 8,
   "metadata": {},
   "outputs": [],
   "source": [
    "# BASE_PATH = f\"https://brickset.com/minifigs/\"\n",
    "# current_category = \"category-Adventurers\"\n",
    "# current_category_path = f\"{BASE_PATH}/{current_category}\""
   ]
  },
  {
   "cell_type": "code",
   "execution_count": 9,
   "metadata": {},
   "outputs": [],
   "source": [
    "# Configure the size of the window\n",
    "options = Options()\n",
    "options.add_argument(\"--window-size=1920,1080\")\n",
    "\n",
    "# Intitialize the driver\n",
    "driver = webdriver.Chrome(options=options, service=Service(ChromeDriverManager().install()))\n",
    "driver.get(\"https://brickset.com/minifigs/category-Town\")  # Open Tinder\n",
    "driver.maximize_window() # Fit the window to your screen"
   ]
  },
  {
   "cell_type": "code",
   "execution_count": 10,
   "metadata": {},
   "outputs": [],
   "source": [
    "# Set the category\n",
    "category = 'town'\n",
    "create_folder(folder_name=f\"./dataset/{category}\")\n",
    "\n",
    "# Find things on page\n",
    "all_img = driver.find_elements(By.XPATH, \"//img\")\n",
    "all_minifigure_names = driver.find_elements(By.XPATH, \"//article[@class='set']/div[@class='meta']/h1/a\")\n",
    "\n",
    "# Check if the number of images and captions is equal\n",
    "assert len(all_img) == len(all_minifigure_names), f\"all_img ({len(all_img)}) and all_minifigure_names ({len(all_minifigure_names)}) should lenghts be equal!\""
   ]
  },
  {
   "cell_type": "code",
   "execution_count": 11,
   "metadata": {},
   "outputs": [
    {
     "ename": "IndexError",
     "evalue": "list index out of range",
     "output_type": "error",
     "traceback": [
      "\u001b[1;31m---------------------------------------------------------------------------\u001b[0m",
      "\u001b[1;31mIndexError\u001b[0m                                Traceback (most recent call last)",
      "Cell \u001b[1;32mIn[11], line 7\u001b[0m\n\u001b[0;32m      4\u001b[0m response \u001b[39m=\u001b[39m requests\u001b[39m.\u001b[39mget(src, stream\u001b[39m=\u001b[39m\u001b[39mTrue\u001b[39;00m)\n\u001b[0;32m      6\u001b[0m \u001b[39m# Get the original name (it can be usefull for Condiditonal GANs)\u001b[39;00m\n\u001b[1;32m----> 7\u001b[0m minifigure_name \u001b[39m=\u001b[39m clean_name(all_minifigure_names[idx]\u001b[39m.\u001b[39mget_attribute(\u001b[39m'\u001b[39m\u001b[39mtext\u001b[39m\u001b[39m'\u001b[39m))\n\u001b[0;32m      9\u001b[0m \u001b[39m# Save image as .png\u001b[39;00m\n\u001b[0;32m     10\u001b[0m \u001b[39mwith\u001b[39;00m \u001b[39mopen\u001b[39m(\u001b[39mf\u001b[39m\u001b[39m'\u001b[39m\u001b[39m./dataset/\u001b[39m\u001b[39m{\u001b[39;00mcategory\u001b[39m}\u001b[39;00m\u001b[39m/\u001b[39m\u001b[39m{\u001b[39;00mminifigure_name\u001b[39m}\u001b[39;00m\u001b[39m.png\u001b[39m\u001b[39m'\u001b[39m, \u001b[39m'\u001b[39m\u001b[39mwb\u001b[39m\u001b[39m'\u001b[39m) \u001b[39mas\u001b[39;00m file:\n",
      "\u001b[1;31mIndexError\u001b[0m: list index out of range"
     ]
    }
   ],
   "source": [
    "# Loop trough all images on page\n",
    "for idx, image in enumerate(all_img):\n",
    "    src = image.get_attribute('src')\n",
    "    response = requests.get(src, stream=True)\n",
    "\n",
    "    # Get the original name (it can be usefull for Condiditonal GANs)\n",
    "    minifigure_name = clean_name(all_minifigure_names[idx].get_attribute('text'))\n",
    "\n",
    "    # Save image as .png\n",
    "    with open(f'./dataset/{category}/{minifigure_name}.png', 'wb') as file:\n",
    "        shutil.copyfileobj(response.raw, file)"
   ]
  },
  {
   "cell_type": "code",
   "execution_count": 17,
   "metadata": {},
   "outputs": [
    {
     "ename": "AssertionError",
     "evalue": "all_img (51) and all_minifigure_names (50) should lenghts be equal!",
     "output_type": "error",
     "traceback": [
      "\u001b[1;31m---------------------------------------------------------------------------\u001b[0m",
      "\u001b[1;31mAssertionError\u001b[0m                            Traceback (most recent call last)",
      "Cell \u001b[1;32mIn[17], line 1\u001b[0m\n\u001b[1;32m----> 1\u001b[0m \u001b[39massert\u001b[39;00m \u001b[39mlen\u001b[39m(all_img) \u001b[39m==\u001b[39m \u001b[39mlen\u001b[39m(all_minifigure_names), \u001b[39mf\u001b[39m\u001b[39m\"\u001b[39m\u001b[39mall_img (\u001b[39m\u001b[39m{\u001b[39;00m\u001b[39mlen\u001b[39m(all_img)\u001b[39m}\u001b[39;00m\u001b[39m) and all_minifigure_names (\u001b[39m\u001b[39m{\u001b[39;00m\u001b[39mlen\u001b[39m(all_minifigure_names)\u001b[39m}\u001b[39;00m\u001b[39m) should lenghts be equal!\u001b[39m\u001b[39m\"\u001b[39m\n",
      "\u001b[1;31mAssertionError\u001b[0m: all_img (51) and all_minifigure_names (50) should lenghts be equal!"
     ]
    }
   ],
   "source": [
    "assert len(all_img) == len(all_minifigure_names), f\"all_img ({len(all_img)}) and all_minifigure_names ({len(all_minifigure_names)}) should lenghts be equal!\""
   ]
  },
  {
   "cell_type": "code",
   "execution_count": null,
   "metadata": {},
   "outputs": [
    {
     "data": {
      "text/plain": [
       "[]"
      ]
     },
     "execution_count": 18,
     "metadata": {},
     "output_type": "execute_result"
    }
   ],
   "source": []
  },
  {
   "cell_type": "code",
   "execution_count": null,
   "metadata": {},
   "outputs": [],
   "source": []
  },
  {
   "cell_type": "code",
   "execution_count": null,
   "metadata": {},
   "outputs": [],
   "source": [
    "driver.quit()"
   ]
  },
  {
   "cell_type": "code",
   "execution_count": null,
   "metadata": {},
   "outputs": [],
   "source": []
  },
  {
   "cell_type": "code",
   "execution_count": null,
   "metadata": {},
   "outputs": [],
   "source": []
  },
  {
   "cell_type": "code",
   "execution_count": null,
   "metadata": {},
   "outputs": [],
   "source": []
  },
  {
   "cell_type": "code",
   "execution_count": null,
   "metadata": {},
   "outputs": [],
   "source": []
  },
  {
   "cell_type": "code",
   "execution_count": null,
   "metadata": {},
   "outputs": [],
   "source": []
  },
  {
   "cell_type": "code",
   "execution_count": null,
   "metadata": {},
   "outputs": [],
   "source": []
  },
  {
   "cell_type": "code",
   "execution_count": null,
   "metadata": {},
   "outputs": [],
   "source": []
  },
  {
   "cell_type": "code",
   "execution_count": null,
   "metadata": {},
   "outputs": [],
   "source": []
  },
  {
   "cell_type": "code",
   "execution_count": null,
   "metadata": {},
   "outputs": [],
   "source": []
  }
 ],
 "metadata": {
  "kernelspec": {
   "display_name": "lego",
   "language": "python",
   "name": "python3"
  },
  "language_info": {
   "codemirror_mode": {
    "name": "ipython",
    "version": 3
   },
   "file_extension": ".py",
   "mimetype": "text/x-python",
   "name": "python",
   "nbconvert_exporter": "python",
   "pygments_lexer": "ipython3",
   "version": "3.11.4"
  },
  "orig_nbformat": 4
 },
 "nbformat": 4,
 "nbformat_minor": 2
}
