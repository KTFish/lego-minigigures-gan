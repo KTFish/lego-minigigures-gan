{
 "cells": [
  {
   "cell_type": "code",
   "execution_count": 1,
   "metadata": {},
   "outputs": [],
   "source": [
    "import os\n",
    "import time\n",
    "import shutil\n",
    "import requests\n",
    "from typing import List\n",
    "from random import random\n",
    "from selenium import webdriver\n",
    "from selenium.webdriver.chrome.options import Options\n",
    "from selenium.webdriver.common.action_chains import ActionChains\n",
    "\n",
    "from selenium.webdriver.common.by import By\n",
    "from selenium.webdriver.support.ui import WebDriverWait\n",
    "from selenium.webdriver.support import expected_conditions as EC\n",
    "\n",
    "from webdriver_manager.chrome import ChromeDriverManager\n",
    "from selenium.webdriver.chrome.service import Service\n",
    "\n",
    "os.environ['PATH'] += '.'  # Add webdriver to PATH\n",
    "\n",
    "def create_folder(folder_name: str) -> None:\n",
    "    if not os.path.exists(folder_name):\n",
    "        os.makedirs(folder_name)\n",
    "\n",
    "# Create a folder for dataset    \n",
    "create_folder('dataset')\n",
    "\n",
    "# Configure file paths\n",
    "# BASE_PATH = f\"https://brickset.com/minifigs/\"\n",
    "# current_category = \"category-Adventurers\"\n",
    "# current_category_path = f\"{BASE_PATH}/{current_category}\""
   ]
  },
  {
   "cell_type": "code",
   "execution_count": 2,
   "metadata": {},
   "outputs": [],
   "source": [
    "# Configure the size of the window\n",
    "options = Options()\n",
    "options.add_argument(\"--window-size=1920,1080\")\n",
    "\n",
    "# Intitialize the driver\n",
    "driver = webdriver.Chrome(options=options, service=Service(ChromeDriverManager().install()))\n",
    "driver.get(\"https://brickset.com/minifigs/category-Town\")  # Open Tinder\n",
    "driver.maximize_window() # Fit the window to your screen"
   ]
  },
  {
   "cell_type": "code",
   "execution_count": 22,
   "metadata": {},
   "outputs": [],
   "source": [
    "# Set the category\n",
    "category = 'town'\n",
    "create_folder(folder_name=f\"./dataset/{category}\")"
   ]
  },
  {
   "cell_type": "code",
   "execution_count": 9,
   "metadata": {},
   "outputs": [],
   "source": [
    "import re\n",
    "def clean_name(minifigure_name: str) -> str:\n",
    "    invalid_chars = r'[\\\\/:\\*\\?\"<>\\|]\\& \\''\n",
    "    for c in invalid_chars:\n",
    "        minifigure_name = minifigure_name.replace(c, '-')\n",
    "    return re.sub(r'-+', '-', minifigure_name)\n",
    "    "
   ]
  },
  {
   "cell_type": "code",
   "execution_count": 10,
   "metadata": {},
   "outputs": [],
   "source": [
    "def scrape() -> None:\n",
    "    \"\"\"\n",
    "    Function for scraping a single page. It scrapes the minifigures images and names.\n",
    "    \"\"\"\n",
    "    # Find things on page\n",
    "    # all_img = driver.find_elements(By.XPATH, \"//img\")\n",
    "    all_img = driver.find_elements(By.XPATH, \"//article[@class='set']//img\")\n",
    "    all_minifigure_names = driver.find_elements(By.XPATH, \"//article[@class='set']/div[@class='meta']/h1/a\")\n",
    "\n",
    "\n",
    "    # Check if the number of images and captions is equal\n",
    "    assert len(all_img) == len(all_minifigure_names), f\"all_img ({len(all_img)}) and all_minifigure_names ({len(all_minifigure_names)}) should lenghts be equal!\"\n",
    "\n",
    "    # Loop trough all images on page\n",
    "    for idx, image in enumerate(all_img):\n",
    "        src = image.get_attribute('src')\n",
    "        response = requests.get(src, stream=True)\n",
    "\n",
    "        # Get the original name (it can be usefull for Condiditonal GANs)\n",
    "        minifigure_name = clean_name(all_minifigure_names[idx].get_attribute('text'))\n",
    "\n",
    "        # Save image as .png\n",
    "        with open(f'./dataset/{category}/{minifigure_name}.png', 'wb') as file:\n",
    "            shutil.copyfileobj(response.raw, file)"
   ]
  },
  {
   "cell_type": "code",
   "execution_count": 11,
   "metadata": {},
   "outputs": [],
   "source": [
    "def scrape_all_pages(url):\n",
    "    # Visit the first page\n",
    "    driver.get(url)\n",
    "\n",
    "    while True:\n",
    "        # Call the scrape() function on the current page\n",
    "        scrape()\n",
    "\n",
    "        # Find the 'next' button and check if it is disabled (last page)\n",
    "        next_button = driver.find_element(By.CSS_SELECTOR, \"li.next a\")\n",
    "        next_disabled = next_button.get_attribute(\"aria-disabled\")\n",
    "\n",
    "        # If 'next' button is disabled, it means we reached the last page, so break the loop\n",
    "        if next_disabled == \"true\":\n",
    "            break\n",
    "\n",
    "        # Otherwise, click the 'next' button to go to the next page\n",
    "        driver.execute_script(\"arguments[0].click();\", next_button)\n",
    "\n",
    "        # Wait for a few seconds (you can adjust the time if needed)\n",
    "        time.sleep(5)\n"
   ]
  },
  {
   "cell_type": "code",
   "execution_count": 12,
   "metadata": {},
   "outputs": [
    {
     "ename": "NoSuchWindowException",
     "evalue": "Message: no such window: target window already closed\nfrom unknown error: web view not found\n  (Session info: chrome=115.0.5790.110)\nStacktrace:\nBacktrace:\n\tGetHandleVerifier [0x00571C53+49427]\n\t(No symbol) [0x00505F41]\n\t(No symbol) [0x0040C64D]\n\t(No symbol) [0x003F32E5]\n\t(No symbol) [0x0045868B]\n\t(No symbol) [0x00466A63]\n\t(No symbol) [0x00454816]\n\t(No symbol) [0x00431127]\n\t(No symbol) [0x004322AD]\n\tGetHandleVerifier [0x007C7149+2496009]\n\tGetHandleVerifier [0x0080D572+2783794]\n\tGetHandleVerifier [0x00807491+2758993]\n\tGetHandleVerifier [0x005F11D0+571024]\n\t(No symbol) [0x0050F96A]\n\t(No symbol) [0x0050BD88]\n\t(No symbol) [0x0050BE6B]\n\t(No symbol) [0x004FEA97]\n\tBaseThreadInitThunk [0x76E500C9+25]\n\tRtlGetAppContainerNamedObjectPath [0x77867B1E+286]\n\tRtlGetAppContainerNamedObjectPath [0x77867AEE+238]\n",
     "output_type": "error",
     "traceback": [
      "\u001b[1;31m---------------------------------------------------------------------------\u001b[0m",
      "\u001b[1;31mNoSuchWindowException\u001b[0m                     Traceback (most recent call last)",
      "Cell \u001b[1;32mIn[12], line 2\u001b[0m\n\u001b[0;32m      1\u001b[0m \u001b[39m# Start scraping from the first page\u001b[39;00m\n\u001b[1;32m----> 2\u001b[0m scrape_all_pages(\u001b[39m\"\u001b[39;49m\u001b[39mhttps://brickset.com/minifigs/category-Town\u001b[39;49m\u001b[39m\"\u001b[39;49m)\n",
      "Cell \u001b[1;32mIn[11], line 3\u001b[0m, in \u001b[0;36mscrape_all_pages\u001b[1;34m(url)\u001b[0m\n\u001b[0;32m      1\u001b[0m \u001b[39mdef\u001b[39;00m \u001b[39mscrape_all_pages\u001b[39m(url):\n\u001b[0;32m      2\u001b[0m     \u001b[39m# Visit the first page\u001b[39;00m\n\u001b[1;32m----> 3\u001b[0m     driver\u001b[39m.\u001b[39;49mget(url)\n\u001b[0;32m      5\u001b[0m     \u001b[39mwhile\u001b[39;00m \u001b[39mTrue\u001b[39;00m:\n\u001b[0;32m      6\u001b[0m         \u001b[39m# Call the scrape() function on the current page\u001b[39;00m\n\u001b[0;32m      7\u001b[0m         scrape()\n",
      "File \u001b[1;32mc:\\Users\\Admin\\anaconda3\\envs\\lego\\Lib\\site-packages\\selenium\\webdriver\\remote\\webdriver.py:354\u001b[0m, in \u001b[0;36mWebDriver.get\u001b[1;34m(self, url)\u001b[0m\n\u001b[0;32m    352\u001b[0m \u001b[39mdef\u001b[39;00m \u001b[39mget\u001b[39m(\u001b[39mself\u001b[39m, url: \u001b[39mstr\u001b[39m) \u001b[39m-\u001b[39m\u001b[39m>\u001b[39m \u001b[39mNone\u001b[39;00m:\n\u001b[0;32m    353\u001b[0m \u001b[39m    \u001b[39m\u001b[39m\"\"\"Loads a web page in the current browser session.\"\"\"\u001b[39;00m\n\u001b[1;32m--> 354\u001b[0m     \u001b[39mself\u001b[39;49m\u001b[39m.\u001b[39;49mexecute(Command\u001b[39m.\u001b[39;49mGET, {\u001b[39m\"\u001b[39;49m\u001b[39murl\u001b[39;49m\u001b[39m\"\u001b[39;49m: url})\n",
      "File \u001b[1;32mc:\\Users\\Admin\\anaconda3\\envs\\lego\\Lib\\site-packages\\selenium\\webdriver\\remote\\webdriver.py:345\u001b[0m, in \u001b[0;36mWebDriver.execute\u001b[1;34m(self, driver_command, params)\u001b[0m\n\u001b[0;32m    343\u001b[0m response \u001b[39m=\u001b[39m \u001b[39mself\u001b[39m\u001b[39m.\u001b[39mcommand_executor\u001b[39m.\u001b[39mexecute(driver_command, params)\n\u001b[0;32m    344\u001b[0m \u001b[39mif\u001b[39;00m response:\n\u001b[1;32m--> 345\u001b[0m     \u001b[39mself\u001b[39;49m\u001b[39m.\u001b[39;49merror_handler\u001b[39m.\u001b[39;49mcheck_response(response)\n\u001b[0;32m    346\u001b[0m     response[\u001b[39m\"\u001b[39m\u001b[39mvalue\u001b[39m\u001b[39m\"\u001b[39m] \u001b[39m=\u001b[39m \u001b[39mself\u001b[39m\u001b[39m.\u001b[39m_unwrap_value(response\u001b[39m.\u001b[39mget(\u001b[39m\"\u001b[39m\u001b[39mvalue\u001b[39m\u001b[39m\"\u001b[39m, \u001b[39mNone\u001b[39;00m))\n\u001b[0;32m    347\u001b[0m     \u001b[39mreturn\u001b[39;00m response\n",
      "File \u001b[1;32mc:\\Users\\Admin\\anaconda3\\envs\\lego\\Lib\\site-packages\\selenium\\webdriver\\remote\\errorhandler.py:229\u001b[0m, in \u001b[0;36mErrorHandler.check_response\u001b[1;34m(self, response)\u001b[0m\n\u001b[0;32m    227\u001b[0m         alert_text \u001b[39m=\u001b[39m value[\u001b[39m\"\u001b[39m\u001b[39malert\u001b[39m\u001b[39m\"\u001b[39m]\u001b[39m.\u001b[39mget(\u001b[39m\"\u001b[39m\u001b[39mtext\u001b[39m\u001b[39m\"\u001b[39m)\n\u001b[0;32m    228\u001b[0m     \u001b[39mraise\u001b[39;00m exception_class(message, screen, stacktrace, alert_text)  \u001b[39m# type: ignore[call-arg]  # mypy is not smart enough here\u001b[39;00m\n\u001b[1;32m--> 229\u001b[0m \u001b[39mraise\u001b[39;00m exception_class(message, screen, stacktrace)\n",
      "\u001b[1;31mNoSuchWindowException\u001b[0m: Message: no such window: target window already closed\nfrom unknown error: web view not found\n  (Session info: chrome=115.0.5790.110)\nStacktrace:\nBacktrace:\n\tGetHandleVerifier [0x00571C53+49427]\n\t(No symbol) [0x00505F41]\n\t(No symbol) [0x0040C64D]\n\t(No symbol) [0x003F32E5]\n\t(No symbol) [0x0045868B]\n\t(No symbol) [0x00466A63]\n\t(No symbol) [0x00454816]\n\t(No symbol) [0x00431127]\n\t(No symbol) [0x004322AD]\n\tGetHandleVerifier [0x007C7149+2496009]\n\tGetHandleVerifier [0x0080D572+2783794]\n\tGetHandleVerifier [0x00807491+2758993]\n\tGetHandleVerifier [0x005F11D0+571024]\n\t(No symbol) [0x0050F96A]\n\t(No symbol) [0x0050BD88]\n\t(No symbol) [0x0050BE6B]\n\t(No symbol) [0x004FEA97]\n\tBaseThreadInitThunk [0x76E500C9+25]\n\tRtlGetAppContainerNamedObjectPath [0x77867B1E+286]\n\tRtlGetAppContainerNamedObjectPath [0x77867AEE+238]\n"
     ]
    }
   ],
   "source": [
    "# Start scraping from the first page\n",
    "scrape_all_pages(\"https://brickset.com/minifigs/category-Town\")"
   ]
  },
  {
   "cell_type": "code",
   "execution_count": null,
   "metadata": {},
   "outputs": [],
   "source": []
  },
  {
   "cell_type": "code",
   "execution_count": null,
   "metadata": {},
   "outputs": [],
   "source": []
  },
  {
   "cell_type": "code",
   "execution_count": null,
   "metadata": {},
   "outputs": [],
   "source": []
  },
  {
   "cell_type": "code",
   "execution_count": null,
   "metadata": {},
   "outputs": [],
   "source": [
    "driver.quit()"
   ]
  }
 ],
 "metadata": {
  "kernelspec": {
   "display_name": "lego",
   "language": "python",
   "name": "python3"
  },
  "language_info": {
   "codemirror_mode": {
    "name": "ipython",
    "version": 3
   },
   "file_extension": ".py",
   "mimetype": "text/x-python",
   "name": "python",
   "nbconvert_exporter": "python",
   "pygments_lexer": "ipython3",
   "version": "3.11.4"
  },
  "orig_nbformat": 4
 },
 "nbformat": 4,
 "nbformat_minor": 2
}
